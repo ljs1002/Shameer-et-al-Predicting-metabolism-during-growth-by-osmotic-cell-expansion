{
 "cells": [
  {
   "cell_type": "markdown",
   "metadata": {},
   "source": [
    "# CREAT A MODEL OF DEVELOPING TOMATO FRUIT"
   ]
  },
  {
   "cell_type": "markdown",
   "metadata": {},
   "source": [
    "##### Warning: \n",
    "\n",
    "- CPLEX cannot be provided on binder because of licensing issues. In the absence of CPLEX, the script will rely on GLPK to solve the model. FVA runs can hence take very long time. If interested in running FVA, we recommend that you download the scripts, download jupyter notebook, install required python libraries (see requirements.txt for list of libraries required) and run the analysis offline."
   ]
  },
  {
   "cell_type": "markdown",
   "metadata": {},
   "source": [
    "## Setup basic fruit model constraints"
   ]
  },
  {
   "cell_type": "code",
   "execution_count": 1,
   "metadata": {},
   "outputs": [],
   "source": [
    "%matplotlib inline\n",
    "\n",
    "#import library\n",
    "from libsbml import readSBML\n",
    "from cobra import io,flux_analysis,util\n",
    "from cobra.core import Reaction,Metabolite\n",
    "from IPython import display\n",
    "from studyFunctions import setupMultiphaseModel\n",
    "import time\n",
    "\n",
    "#import custom library\n",
    "from studyFunctions import *\n",
    "\n",
    "\n",
    "#import sbml file\n",
    "'''\n",
    "#Generating multiphase model from core model directly\n",
    "#cobra_model = io.sbml.create_cobra_model_from_sbml_file(\"Models/PlantCoreMetabolism_v1_2_3.xml\")\n",
    "#set up a 10 phase base model\n",
    "cobra_model = setupMultiphaseModel(cobra_model,10,\"MetabolitesToTransfer.txt\")\n",
    "'''\n",
    "#Importing fruit model with gene associations collected from Lycocyc\n",
    "cobra_model = io.sbml.create_cobra_model_from_sbml_file(\"Models/FruitModel.xml\")\n",
    "if \"cplex\" in util.solvers.keys():\n",
    "    cobra_model.solver = \"cplex\"\n",
    "else:\n",
    "    cobra_model.solver = \"glpk\"\n",
    "\n",
    "\n",
    "#remove free sucrose, glucose, NH4 and light uptake\n",
    "for i in range(1,11):\n",
    "    cobra_model.reactions.get_by_id(\"Sucrose_tx\"+str(i)).lower_bound=0\n",
    "    cobra_model.reactions.get_by_id(\"Sucrose_tx\"+str(i)).upper_bound=0\n",
    "    cobra_model.reactions.get_by_id(\"GLC_tx\"+str(i)).lower_bound=0\n",
    "    cobra_model.reactions.get_by_id(\"GLC_tx\"+str(i)).upper_bound=0\n",
    "    cobra_model.reactions.get_by_id(\"NH4_tx\"+str(i)).lower_bound=0\n",
    "    cobra_model.reactions.get_by_id(\"NH4_tx\"+str(i)).upper_bound=0\n",
    "    cobra_model.reactions.get_by_id(\"Photon_tx\"+str(i)).lower_bound=0\n",
    "    cobra_model.reactions.get_by_id(\"Photon_tx\"+str(i)).upper_bound=0\n",
    "\n",
    "\n",
    "#update phloem output to represent phloem uptake\n",
    "for i in range(1,11):\n",
    "    cobra_model.metabolites.get_by_id(\"X_Phloem_contribution_t\"+str(i)).remove_from_model()\n",
    "    rxn = cobra_model.reactions.get_by_id(\"Phloem_output_tx\"+str(i))\n",
    "    #print rxn.reaction\n",
    "    metlist = rxn.metabolites.keys()\n",
    "    for met in metlist:\n",
    "        if met.id.__contains__(\"PROTON\"):\n",
    "            continue\n",
    "        a = rxn.metabolites.get(met)\n",
    "        rxn.add_metabolites({met:-2*a})\n",
    "    c = rxn.metabolites.get(cobra_model.metabolites.get_by_id(\"sSUCROSE_b\"+str(i)))\n",
    "    rxn.add_metabolites({cobra_model.metabolites.get_by_id(\"sSUCROSE_b\"+str(i)):-1*c})\n",
    "    rxn.add_metabolites({cobra_model.metabolites.get_by_id(\"SUCROSE_c\"+str(i)):c})\n",
    "    rxn.lower_bound = 0\n",
    "    rxn.upper_bound = 1000\n",
    "    #print rxn.reaction\n",
    "    #break\n",
    "    rxn.id = \"Phloem_uptake_tx\"+str(i)\n",
    "\n",
    "cobra_model.reactions._generate_index()"
   ]
  },
  {
   "cell_type": "code",
   "execution_count": 2,
   "metadata": {},
   "outputs": [],
   "source": [
    "for i in range(1,10):\n",
    "    cobra_model.reactions.get_by_id(\"Ca_biomass\"+str(i)).remove_from_model()\n",
    "    cobra_model.reactions.get_by_id(\"Mg_biomass\"+str(i)).remove_from_model()\n",
    "    cobra_model.reactions.get_by_id(\"K_biomass\"+str(i)).remove_from_model()\n"
   ]
  },
  {
   "cell_type": "code",
   "execution_count": 3,
   "metadata": {},
   "outputs": [],
   "source": [
    "for i in range(1,11):\n",
    "    rxn=cobra_model.reactions.get_by_id(\"AraCore_Biomass_tx\"+str(i))\n",
    "    rxn.lower_bound=0\n",
    "    rxn.upper_bound=0\n",
    "\n",
    "for i in range(1,11):\n",
    "    r=cobra_model.reactions.get_by_id(\"Biomass_tx\"+str(i))\n",
    "    r.upper_bound = 0\n",
    "    r.lower_bound = 0"
   ]
  },
  {
   "cell_type": "markdown",
   "metadata": {},
   "source": [
    "## Setup biomass constraints based on experimental data processed using Colombie regression algorithm\n",
    "\n"
   ]
  },
  {
   "cell_type": "code",
   "execution_count": 4,
   "metadata": {},
   "outputs": [],
   "source": [
    "\n",
    "cobra_model2 = cobra_model.copy()\n",
    "del(cobra_model)                    #to help clear memory\n",
    "#import lower bounds\n",
    "import pandas\n",
    "\n",
    "df = pandas.read_csv(\"processedData/default_ProcessedData_OrganicSolutes_Starch.csv\",delimiter=\"\\t\")\n",
    "#df = pandas.read_csv(\"processedData/ProcessedData_OrganicSolutes_Starch.csv\",delimiter=\"\\t\")\n",
    "\n",
    "DPA = list(df.DPA)\n",
    "Conc=dict()\n",
    "\n",
    "Conc[\"MAL\"]=list(df.MAL)\n",
    "Conc[\"CIT\"]=list(df.CIT)\n",
    "Conc[\"FUM\"]=list(df.FUM)\n",
    "Conc[\"SUCROSE\"]=list(df.SUC)\n",
    "Conc[\"FRU\"]=list(df.FRU)\n",
    "Conc[\"GLC\"]=list(df.GLC)\n",
    "Conc[\"L_ALPHA_ALANINE\"]=list(df.L_ALPHA_ALANINE)\n",
    "Conc[\"ASN\"]=list(df.ASN)\n",
    "Conc[\"L_ASPARTATE\"]=list(df.L_ASPARTATE)\n",
    "Conc[\"4_AMINO_BUTYRATE\"]=list(df.GABA)\n",
    "Conc[\"GLT\"]=list(df.GLT)\n",
    "Conc[\"GLN\"]=list(df.GLN)\n",
    "Conc[\"GLY\"]=list(df.GLY)\n",
    "Conc[\"ILE\"]=list(df.ILE)\n",
    "Conc[\"LYS\"]=list(df.LYS)\n",
    "Conc[\"MET\"]=list(df.MET)\n",
    "Conc[\"PHE\"]=list(df.PHE)\n",
    "Conc[\"PRO\"]=list(df.PRO)\n",
    "Conc[\"SER\"]=list(df.SER)\n",
    "Conc[\"THR\"]=list(df.THR)\n",
    "Conc[\"TRP\"]=list(df.TRP)\n",
    "Conc[\"TYR\"]=list(df.TYR)\n",
    "Conc[\"VAL\"]=list(df.VAL)\n",
    "Conc[\"STARCH\"]=list(df.STARCH)\n",
    "#Conc[\"Pi\"]=list(df.Pi)\n",
    "\n",
    "\n",
    "#set temporary biomass equations for amino acids\n",
    "AA = [\"GLN_c\",\"ASN_c\",\"SER_c\",\"GLY_c\",\"THR_c\",\"L_ALPHA_ALANINE_c\",\"4_AMINO_BUTYRATE_c\",\"VAL_c\",\"ILE_c\",\"PHE_c\",\"LEU_c\",\"LYS_c\",\"ARG_c\",\"L_ASPARTATE_c\",\"GLT_c\",\"HIS_c\",\"MET_c\",\"PRO_c\",\"TRP_c\",\"TYR_c\",\"CYS_c\"]\n",
    "\n",
    "scale = 1\n"
   ]
  },
  {
   "cell_type": "code",
   "execution_count": 5,
   "metadata": {},
   "outputs": [],
   "source": [
    "for i in range(1,11):    \n",
    "    \n",
    "    #set temporary biomass equations for amino acids\n",
    "    AA = [\"GLN_c\",\"ASN_c\",\"SER_c\",\"GLY_c\",\"THR_c\",\"L_ALPHA_ALANINE_c\",\"4_AMINO_BUTYRATE_c\",\"VAL_c\",\"ILE_c\",\"PHE_c\",\"LEU_c\",\"LYS_c\",\"ARG_c\",\"L_ASPARTATE_c\",\"GLT_c\",\"HIS_c\",\"MET_c\",\"PRO_c\",\"TRP_c\",\"TYR_c\",\"CYS_c\"]\n",
    "    \n",
    "    #for k in AA:\n",
    "    #    rxn = Reaction(\"Biomass_\"+str(k)+\"_tx\"+str(i))\n",
    "    #    rxn.name=\"Biomass_\"+str(k)\n",
    "    #    rxn.add_metabolites({cobra_model2.metabolites.get_by_id(k+str(i)):-1})\n",
    "    #    rxn.lower_bound = 0\n",
    "    #    rxn.upper_bound = 1000\n",
    "    #    cobra_model2.add_reaction(rxn)\n",
    "    \n",
    "    rxn = Reaction(\"Biomass_Lipid_tx\"+str(i))\n",
    "    rxn.name = \"Biomass_Lipid\"\n",
    "    rxn.add_metabolites({cobra_model2.metabolites.get_by_id(\"PHOSPHATIDYL_CHOLINE_r\"+str(i)):-0.353,cobra_model2.metabolites.get_by_id(\"L_1_PHOSPHATIDYL_ETHANOLAMINE_r\"+str(i)):-0.374,cobra_model2.metabolites.get_by_id(\"L_PHOSPHATIDATE_p\"+str(i)):-0.273})\n",
    "    rxn.lower_bound = 0\n",
    "    rxn.upper_bound = 0\n",
    "    cobra_model2.add_reaction(rxn)\n",
    "    \n",
    "    rxn = cobra_model2.reactions.get_by_id(\"Biomass_tx\"+str(i))\n",
    "    rxn.name = \"Biomass_Protein\"\n",
    "    met = Metabolite(\"PROTEIN_b\"+str(i))\n",
    "    met.name=\"PROTEIN_b\"+str(i)\n",
    "    met.compartment = \"b\"+str(i)\n",
    "    rxn.add_metabolites({met:1})\n",
    "    rxn.lower_bound = 0\n",
    "    rxn.upper_bound = 1000\n",
    "    \n",
    "    #remove cations from Biomass_tx\n",
    "    cobra_model2.metabolites.get_by_id(\"K_b\"+str(i)).remove_from_model()\n",
    "    cobra_model2.metabolites.get_by_id(\"Ca_b\"+str(i)).remove_from_model()\n",
    "    cobra_model2.metabolites.get_by_id(\"Mg_b\"+str(i)).remove_from_model()\n",
    "    \n",
    "    #create biomass constraints for DNA and RNA with GC content = 60%\n",
    "    GC = 0.6\n",
    "    \n",
    "    rxn = Reaction(\"Biomass_DNA_tx\"+str(i))\n",
    "    rxn.name=\"Biomass_DNA\"\n",
    "    rxn.add_metabolites({cobra_model2.metabolites.get_by_id(\"ATP_c\"+str(i)):-(1-GC)*0.65,cobra_model2.metabolites.get_by_id(\"aATP_c\"+str(i)):-(1-GC)*0.35,cobra_model2.metabolites.get_by_id(\"GTP_c\"+str(i)):-GC*0.65,cobra_model2.metabolites.get_by_id(\"aGTP_c\"+str(i)):-GC*0.35,cobra_model2.metabolites.get_by_id(\"UTP_p\"+str(i)):-(1-GC)*0.18,cobra_model2.metabolites.get_by_id(\"aUTP_p\"+str(i)):-(1-GC)*0.82,cobra_model2.metabolites.get_by_id(\"CTP_p\"+str(i)):-GC*0.79,cobra_model2.metabolites.get_by_id(\"aCTP_p\"+str(i)):-GC*0.21})\n",
    "    met = Metabolite(\"DNA_b\"+str(i))\n",
    "    met.name=\"DNA_b\"+str(i)\n",
    "    met.compartment = \"b\"+str(i)\n",
    "    rxn.add_metabolites({met:1})\n",
    "    rxn.lower_bound = 0\n",
    "    rxn.upper_bound = 1000\n",
    "    cobra_model2.add_reaction(rxn)\n",
    "    \n",
    "    rxn = Reaction(\"Biomass_RNA_tx\"+str(i))\n",
    "    rxn.name=\"Biomass_RNA\"\n",
    "    rxn.add_metabolites({cobra_model2.metabolites.get_by_id(\"DATP_p\"+str(i)):-(1-GC)*0.79,cobra_model2.metabolites.get_by_id(\"aDATP_p\"+str(i)):-(1-GC)*0.21,cobra_model2.metabolites.get_by_id(\"DGTP_p\"+str(i)):-GC*0.50,cobra_model2.metabolites.get_by_id(\"aDGTP_p\"+str(i)):-GC*0.10,cobra_model2.metabolites.get_by_id(\"bDGTP_p\"+str(i)):-GC*0.40,cobra_model2.metabolites.get_by_id(\"DUTP_p\"+str(i)):-(1-GC)*0.81,cobra_model2.metabolites.get_by_id(\"aDUTP_p\"+str(i)):-(1-GC)*0.19,cobra_model2.metabolites.get_by_id(\"DCTP_p\"+str(i)):-GC*0.79,cobra_model2.metabolites.get_by_id(\"aDCTP_p\"+str(i)):-GC*0.21})\n",
    "    met = Metabolite(\"RNA_b\"+str(i))\n",
    "    met.name=\"RNA_b\"+str(i)\n",
    "    met.compartment = \"b\"+str(i)\n",
    "    rxn.add_metabolites({met:1})\n",
    "    rxn.lower_bound = 0\n",
    "    rxn.upper_bound = 1000\n",
    "    cobra_model2.add_reaction(rxn)\n",
    "    \n",
    "    "
   ]
  },
  {
   "cell_type": "markdown",
   "metadata": {},
   "source": [
    "### Set up initial metabolite composition"
   ]
  },
  {
   "cell_type": "code",
   "execution_count": 6,
   "metadata": {},
   "outputs": [],
   "source": [
    "scale = 1\n",
    "unit_time = DPA[1]-DPA[0]\n",
    "\n",
    "for k in Conc.keys():\n",
    "    if k==\"AA\" or k==\"Protein\" or k==\"NA\":\n",
    "        continue\n",
    "    rxn = Reaction(\"Initial_\"+str(k)+\"_tx\")\n",
    "    rxn.name=\"Initial_\"+str(k)\n",
    "    if k==\"STARCH\":\n",
    "        rxn.add_metabolites({cobra_model2.metabolites.get_by_id(k+\"_p1\"):1})\n",
    "    else:\n",
    "        rxn.add_metabolites({cobra_model2.metabolites.get_by_id(k+\"_c1\"):1})\n",
    "    rxn.lower_bound = (float(Conc[k][0]))/scale\n",
    "    rxn.upper_bound = (float(Conc[k][0]))/scale\n",
    "    rxn.notes[\"influx_stage\"]=1\n",
    "    cobra_model2.add_reaction(rxn)\n",
    "\n"
   ]
  },
  {
   "cell_type": "markdown",
   "metadata": {},
   "source": [
    "### Adding linker reactions reactions"
   ]
  },
  {
   "cell_type": "code",
   "execution_count": 7,
   "metadata": {},
   "outputs": [],
   "source": [
    "#cytosolic and plastidic transfer reactions\n",
    "for i in range(1,10):\n",
    "    k = \"STARCH\"\n",
    "    rxn = Reaction(k+\"_p_Transfer\"+str(i)+str(i+1))\n",
    "    rxn.name = k+\"_p_Transfer\"+str(i)+str(i+1)\n",
    "    rxn.add_metabolites({cobra_model2.metabolites.get_by_id(k+\"_p\"+str(i)):-1,cobra_model2.metabolites.get_by_id(k+\"_p\"+str(i+1)):1})\n",
    "    rxn.lower_bound = 0\n",
    "    rxn.upper_bound = 1000\n",
    "    rxn.notes[\"influx_stage\"]=i+1\n",
    "    rxn.notes[\"outflux_stage\"]=i\n",
    "    cobra_model2.add_reaction(rxn)\n",
    "    \n",
    "    for k in [\"SUCROSE\",\"GLC\",\"FRU\",\"MAL\",\"CIT\",\"FUM\"]:\n",
    "        rxn = Reaction(k+\"_c_Transfer\"+str(i)+str(i+1))\n",
    "        rxn.name = k+\"_Transfer\"+str(i)+str(i+1)\n",
    "        rxn.add_metabolites({cobra_model2.metabolites.get_by_id(k+\"_c\"+str(i)):-1,cobra_model2.metabolites.get_by_id(k+\"_c\"+str(i+1)):1})\n",
    "        rxn.lower_bound = 0\n",
    "        rxn.upper_bound = 1000\n",
    "        rxn.notes[\"influx_stage\"]=i+1\n",
    "        rxn.notes[\"outflux_stage\"]=i\n",
    "        cobra_model2.add_reaction(rxn)\n",
    "    \n",
    "    for k in [\"GLN\",\"ASN\",\"SER\",\"GLY\",\"THR\",\"L_ALPHA_ALANINE\",\"4_AMINO_BUTYRATE\",\"VAL\",\"ILE\",\"PHE\",\"LEU\",\"LYS\",\"ARG\",\"L_ASPARTATE\",\"GLT\",\"HIS\",\"MET\",\"PRO\",\"TRP\",\"TYR\",\"CYS\"]:\n",
    "        rxn = Reaction(k+\"_c_Transfer\"+str(i)+str(i+1))\n",
    "        rxn.name = k+\"_Transfer\"+str(i)+str(i+1)\n",
    "        rxn.add_metabolites({cobra_model2.metabolites.get_by_id(k+\"_c\"+str(i)):-1,cobra_model2.metabolites.get_by_id(k+\"_c\"+str(i+1)):1})\n",
    "        rxn.lower_bound = 0\n",
    "        rxn.upper_bound = 1000\n",
    "        rxn.notes[\"influx_stage\"]=i+1\n",
    "        rxn.notes[\"outflux_stage\"]=i\n",
    "        cobra_model2.add_reaction(rxn)\n",
    "\n",
    "\n",
    "#vacuolar transfer reactions\n",
    "import re\n",
    "fin = open(\"FractionalCharges.csv\",\"r\")\n",
    "\n",
    "ChargeDict=dict()\n",
    "for line in fin:\n",
    "  met=line.replace(\"\\n\",\"\").split(\"\\t\")[0]\n",
    "  met = met.replace(\"-\",\"_\")\n",
    "  charge = line.replace(\"\\n\",\"\").split(\"\\t\")[1]\n",
    "  ChargeDict[met]=charge\n",
    "\n",
    "fin.close()\n",
    "\n",
    "for met in cobra_model2.metabolites:\n",
    "  tempMet=met.id\n",
    "  if(met.id[len(met.id)-1]==\"2\" or met.id[len(met.id)-1]==\"1\"):\n",
    "    tempMet = met.id[0:len(met.id)-1]\n",
    "  if(ChargeDict.keys().__contains__(tempMet)):\n",
    "    met.charge = ChargeDict.get(tempMet)\n",
    "  if met.charge is None:\n",
    "    met.charge=0\n",
    "\n",
    "\n",
    "from cobra.core import Metabolite, Reaction\n",
    "\n",
    "#Adding transfer reactions\n",
    "###################\n",
    "#tmset =set()\n",
    "#for met in cobra_model2.metabolites:\n",
    "#    if met.compartment.__contains__(\"v\") and not met.compartment == \"v10\":\n",
    "#        tmset.add(met.id[0:len(met.id)-1])\n",
    "\n",
    "vacMets=[\"SUCROSE_v\",\"MAL_v\",\"AMMONIUM_v\",\"CIT_v\",\"GLN_v\",\"ASN_v\",\"SER_v\",\"GLN_v\",\"GLY_v\",\"THR_v\",\"L_ALPHA_ALANINE_v\",\"4_AMINO_BUTYRATE_v\",\"VAL_v\",\"ILE_v\",\"PHE_v\",\"LEU_v\",\"LYS_v\",\"ARG_v\",\"L_ASPARTATE_v\",\"GLT_v\",\"bHIS_v\",\"MET_v\",\"PRO_v\",\"TRP_v\",\"TYR_v\",\"CYS_v\",\"GLC_v\",\"FRU_v\",\"FUM_v\",\"MGII_v\",\"KI_v\",\"CAII_v\",\"NITRATE_v\"]\n",
    "tmset = set(vacMets)\n",
    "        \n",
    "for i in range(1,10):\n",
    "    for met in tmset:\n",
    "        tempRxn = Reaction(met+\"_Transfer\"+str(i)+str(i+1))\n",
    "        tempRxn.add_metabolites({cobra_model2.metabolites.get_by_id(met+str(i)):-1,cobra_model2.metabolites.get_by_id(met+str(i+1)):1})\n",
    "        tempRxn.lower_bound=0\n",
    "        tempRxn.upper_bound=1000\n",
    "        tempRxn.notes[\"influx_stage\"]=i+1\n",
    "        tempRxn.notes[\"outflux_stage\"]=i\n",
    "        cobra_model2.add_reaction(tempRxn)\n",
    "\n",
    "\n",
    "fractionMets=dict()\n",
    "for rxn in cobra_model2.reactions:\n",
    "    for met in rxn.metabolites.keys():\n",
    "        a=re.search(\"^a{1,3}\",met.id)\n",
    "        anion=\"\"\n",
    "        if a:\n",
    "            anion=a.group(0)\n",
    "        b=re.search(\"^b{1,3}\",met.id)\n",
    "        basic=\"\"\n",
    "        if b:\n",
    "            basic=b.group(0)\n",
    "        prefix = anion\n",
    "        if prefix == \"\":\n",
    "            prefix = basic\n",
    "        if (abs(rxn.metabolites.get(met)) % 1 > 0 and (not prefix == \"\") and met.compartment == \"v1\"):\n",
    "            fractionMets[met]=prefix\n",
    "\n",
    "temp=cobra_model2.copy()\n",
    "for i in range(1,10):\n",
    "    for met in fractionMets.keys():\n",
    "        for rxn in met.reactions:\n",
    "            if rxn.id.__contains__(\"_Transfer\"):\n",
    "                continue\n",
    "            else:\n",
    "                mainMet = met.id[len(fractionMets[met]):]\n",
    "                coeff1 = temp.reactions.get_by_id(rxn.id).metabolites.get(temp.metabolites.get_by_id(mainMet))\n",
    "                coeff2 = temp.reactions.get_by_id(rxn.id).metabolites.get(temp.metabolites.get_by_id(met.id))\n",
    "                total = coeff1 + coeff2\n",
    "                coeff1 = float(coeff1)/total\n",
    "                coeff2 = float(coeff2)/total\n",
    "                if cobra_model2.reactions.has_id(mainMet[0:len(mainMet)-1]+\"_Transfer\"+str(i)+str(i+1)):\n",
    "                    if cobra_model2.reactions.has_id(met.id[0:len(met.id)-1]+\"_Transfer\"+str(i)+str(i+1)):\n",
    "                        temp.reactions.get_by_id(met.id[0:len(met.id)-1]+\"_Transfer\"+str(i)+str(i+1)).remove_from_model()\n",
    "                    temp.reactions.get_by_id(mainMet[0:len(mainMet)-1]+\"_Transfer\"+str(i)+str(i+1)).remove_from_model()\n",
    "                    Reac = Reaction(mainMet[0:len(mainMet)-1]+\"_Transfer\"+str(i)+str(i+1),name=mainMet+\"_Transfer\"+str(i)+str(i+1))\n",
    "                    Reac.add_metabolites({temp.metabolites.get_by_id(met.id[0:len(met.id)-1]+str(i)):-coeff2,temp.metabolites.get_by_id(met.id[0:len(met.id)-1]+str(i+1)):coeff2,temp.metabolites.get_by_id(mainMet[0:len(mainMet)-1]+str(i)):-coeff1,temp.metabolites.get_by_id(mainMet[0:len(mainMet)-1]+str(i+1)):coeff1})\n",
    "                    Reac.upper_bound=1000\n",
    "                    temp.add_reaction(Reac)\n",
    "                    #print Reac.reaction\n",
    "                    break\n",
    "\n",
    "#####################        \n",
    "\n",
    "\n",
    "cobra_model2 = temp.copy()\n",
    "del(temp)                  #to help clear memory"
   ]
  },
  {
   "cell_type": "markdown",
   "metadata": {},
   "source": [
    "### Accounting for change in vacuolar pH during fruit development."
   ]
  },
  {
   "cell_type": "code",
   "execution_count": 8,
   "metadata": {},
   "outputs": [],
   "source": [
    "temp1 = convertToClassicalModel(cobra_model2,comp=\"v1\",updateCharges = \"FractionalCharges.csv\")"
   ]
  },
  {
   "cell_type": "code",
   "execution_count": 9,
   "metadata": {
    "scrolled": true
   },
   "outputs": [],
   "source": [
    "\n",
    "temp2 = convertToClassicalModel(temp1,comp=\"v2\",updateCharges = \"FractionalCharges.csv\")\n",
    "del(temp1)                  #to help clear memory\n",
    "temp3 = convertToClassicalModel(temp2,comp=\"v3\",updateCharges = \"FractionalCharges.csv\")\n",
    "del(temp2)                  #to help clear memory\n",
    "temp4 = convertToClassicalModel(temp3,comp=\"v4\",updateCharges = \"FractionalCharges.csv\")\n",
    "del(temp3)                  #to help clear memory\n",
    "temp5 = convertToClassicalModel(temp4,comp=\"v5\",updateCharges = \"FractionalCharges.csv\")\n",
    "del(temp4)                  #to help clear memory\n",
    "temp6 = convertToClassicalModel(temp5,comp=\"v6\",updateCharges = \"FractionalCharges.csv\")\n",
    "del(temp5)                  #to help clear memory\n",
    "temp7 = convertToClassicalModel(temp6,comp=\"v7\",updateCharges = \"FractionalCharges.csv\")\n",
    "del(temp6)                  #to help clear memory\n",
    "temp8 = convertToClassicalModel(temp7,comp=\"v8\",updateCharges = \"FractionalCharges.csv\")\n",
    "del(temp7)                  #to help clear memory\n",
    "temp9 = convertToClassicalModel(temp8,comp=\"v9\",updateCharges = \"FractionalCharges.csv\")\n",
    "del(temp8)                  #to help clear memory\n"
   ]
  },
  {
   "cell_type": "code",
   "execution_count": 10,
   "metadata": {},
   "outputs": [],
   "source": [
    "temp10 = convertToClassicalModel(temp9,comp=\"v10\",updateCharges = \"FractionalCharges.csv\")\n",
    "del(temp9)                  #to help clear memory\n",
    "cobra_model2 = temp10.copy()\n",
    "del(temp10)                  #to help clear memory"
   ]
  },
  {
   "cell_type": "markdown",
   "metadata": {},
   "source": [
    "## Using cherry tomato data for vacuolar pH (from Rolin et al 2000) to update tomato vacuolar pH during development\n",
    "\n"
   ]
  },
  {
   "cell_type": "code",
   "execution_count": 11,
   "metadata": {},
   "outputs": [
    {
     "data": {
      "text/html": [
       "<div>\n",
       "<style scoped>\n",
       "    .dataframe tbody tr th:only-of-type {\n",
       "        vertical-align: middle;\n",
       "    }\n",
       "\n",
       "    .dataframe tbody tr th {\n",
       "        vertical-align: top;\n",
       "    }\n",
       "\n",
       "    .dataframe thead th {\n",
       "        text-align: right;\n",
       "    }\n",
       "</style>\n",
       "<table border=\"1\" class=\"dataframe\">\n",
       "  <thead>\n",
       "    <tr style=\"text-align: right;\">\n",
       "      <th></th>\n",
       "      <th>DPA</th>\n",
       "      <th>pH</th>\n",
       "    </tr>\n",
       "  </thead>\n",
       "  <tbody>\n",
       "    <tr>\n",
       "      <th>0</th>\n",
       "      <td>4</td>\n",
       "      <td>4.53</td>\n",
       "    </tr>\n",
       "    <tr>\n",
       "      <th>1</th>\n",
       "      <td>7</td>\n",
       "      <td>4.37</td>\n",
       "    </tr>\n",
       "    <tr>\n",
       "      <th>2</th>\n",
       "      <td>12</td>\n",
       "      <td>4.03</td>\n",
       "    </tr>\n",
       "    <tr>\n",
       "      <th>3</th>\n",
       "      <td>20</td>\n",
       "      <td>4.01</td>\n",
       "    </tr>\n",
       "    <tr>\n",
       "      <th>4</th>\n",
       "      <td>28</td>\n",
       "      <td>3.66</td>\n",
       "    </tr>\n",
       "    <tr>\n",
       "      <th>5</th>\n",
       "      <td>33</td>\n",
       "      <td>3.86</td>\n",
       "    </tr>\n",
       "  </tbody>\n",
       "</table>\n",
       "</div>"
      ],
      "text/plain": [
       "   DPA    pH\n",
       "0    4  4.53\n",
       "1    7  4.37\n",
       "2   12  4.03\n",
       "3   20  4.01\n",
       "4   28  3.66\n",
       "5   33  3.86"
      ]
     },
     "execution_count": 11,
     "metadata": {},
     "output_type": "execute_result"
    }
   ],
   "source": [
    "from pandas import DataFrame\n",
    "d = {\"DPA\":[4,7,12,20,28,33],\"pH\":[4.53,4.37,4.03,4.01,3.66,3.86]}\n",
    "pd = DataFrame(data = d)\n",
    "pd"
   ]
  },
  {
   "cell_type": "code",
   "execution_count": 12,
   "metadata": {},
   "outputs": [
    {
     "data": {
      "image/png": "[encoded data removed]",
      "text/plain": [
       "<Figure size 576x504 with 1 Axes>"
      ]
     },
     "metadata": {},
     "output_type": "display_data"
    }
   ],
   "source": [
    "from pandas import DataFrame\n",
    "d = {\"DPA\":[4,7,12,20,28,33],\"pH\":[4.53,4.37,4.03,4.01,3.66,3.86]}\n",
    "pd = DataFrame(data = d)\n",
    "\n",
    "import numpy as np\n",
    "p = np.polyfit(d[\"DPA\"],d[\"pH\"],2)\n",
    "q = np.poly1d(p)\n",
    "#print(p)\n",
    "\n",
    "x1=list()\n",
    "y1=list()\n",
    "y2=list()\n",
    "for i in range(4,35):\n",
    "    x1.append(i)\n",
    "    y2.append(q(i))\n",
    "\n",
    "    \n",
    "import matplotlib.pyplot as plt\n",
    "%matplotlib inline\n",
    "plt.rcParams.update({'font.size': 20}) #sets a global fontsize\n",
    "plt.rcParams['xtick.major.size'] = 5 # adjusts tick line length and width\n",
    "plt.rcParams['xtick.major.width'] = 1\n",
    "plt.rcParams['ytick.major.size'] = 5\n",
    "plt.rcParams['ytick.major.width'] = 1\n",
    "plt.rcParams['axes.linewidth']=3 # makes axes line thicker\n",
    "plt.figure(figsize=(8,7))\n",
    "\n",
    "plt.scatter(d[\"DPA\"],d[\"pH\"],label=\"Rolin et al 2000 cherry-tomato data\")\n",
    "plt.plot(x1,y2,label=\"polynomial fitting\",color=\"m\")\n",
    "plt.text(32.3,4.45,\"Red-cherry tomato\",fontsize=15,color=\"r\",rotation=90)\n",
    "plt.arrow(33,3.98,0,-0.28,head_width=1,head_length=0.1,color=\"r\")\n",
    "plt.text(58.3,4.27,\"Red-tomato\",fontsize=15,color=\"r\",rotation=90)\n",
    "plt.arrow(59,3.98,0,-0.28,head_width=1,head_length=0.1,color=\"r\")\n",
    "plt.xlim(0,62)\n",
    "plt.ylim(3.6,5.0)\n",
    "plt.ylabel(\"pH\")\n",
    "plt.xlabel(\"DPA\")\n",
    "plt.legend(fontsize=\"15\")\n",
    "plt.tight_layout()\n",
    "plt.show()\n",
    "\n",
    "\n",
    "VacpH = dict()\n",
    "compH = dict()\n",
    "i=1\n",
    "for x in DPA[1:]:\n",
    "    VacpH[x]=round(q(x),1)\n",
    "    compH[\"v\"+str(i)]=round(q(x),1)\n",
    "    i=i+1"
   ]
  },
  {
   "cell_type": "markdown",
   "metadata": {},
   "source": [
    "Linear transformation of cherry tomato data to estiamte tomato DPA"
   ]
  },
  {
   "cell_type": "code",
   "execution_count": 13,
   "metadata": {
    "scrolled": false
   },
   "outputs": [
    {
     "data": {
      "image/png": "[encoded data removed]",
      "text/plain": [
       "<Figure size 576x504 with 1 Axes>"
      ]
     },
     "metadata": {},
     "output_type": "display_data"
    }
   ],
   "source": [
    "from pandas import DataFrame\n",
    "d = {\"DPA\":[4,7,12,20,28,33],\"pH\":[4.53,4.37,4.03,4.01,3.66,3.86]}\n",
    "d2 = {\"DPA\":[4,7,12,20,28,33],\"pH\":[4.53,4.37,4.03,4.01,3.66,3.86]}\n",
    "for x in range(0,len(d[\"DPA\"])):\n",
    "    d2[\"DPA\"][x]=round(d[\"DPA\"][x]*(59.0/33),2)\n",
    "\n",
    "pd = DataFrame(data = d2)\n",
    "\n",
    "import numpy as np\n",
    "p = np.polyfit(d2[\"DPA\"],d2[\"pH\"],2)\n",
    "q = np.poly1d(p)\n",
    "\n",
    "x1=list()\n",
    "y1=list()\n",
    "y2=list()\n",
    "for i in range(4,60):\n",
    "    x1.append(i)\n",
    "    y2.append(q(i))\n",
    "\n",
    "    \n",
    "import matplotlib.pyplot as plt\n",
    "%matplotlib inline\n",
    "plt.rcParams.update({'font.size': 20}) #sets a global fontsize\n",
    "plt.rcParams['xtick.major.size'] = 5 # adjusts tick line length and width\n",
    "plt.rcParams['xtick.major.width'] = 1\n",
    "plt.rcParams['ytick.major.size'] = 5\n",
    "plt.rcParams['ytick.major.width'] = 1\n",
    "plt.rcParams['axes.linewidth']=3 # makes axes line thicker\n",
    "plt.figure(figsize=(8,7))\n",
    "\n",
    "plt.scatter(d2[\"DPA\"],d2[\"pH\"],label=\"Rolin et al 2000 data scaled\")\n",
    "plt.plot(x1,y2,label=\"polynomial fitting\",color=\"m\")\n",
    "plt.text(25,4.2,\"MG\",fontsize=15,color=\"g\")\n",
    "plt.arrow(26,4.19,0,-0.49,head_width=1,head_length=0.1,color=\"g\")\n",
    "plt.text(48,4.2,\"BR\",fontsize=15,color=\"orange\")\n",
    "plt.arrow(49,4.19,0,-0.49,head_width=1,head_length=0.1,color=\"orange\")\n",
    "plt.text(58.3,4.2,\"RR\",fontsize=15,color=\"r\")\n",
    "plt.arrow(59,4.19,0,-0.49,head_width=1,head_length=0.1,color=\"r\")\n",
    "plt.ylabel(\"pH\")\n",
    "plt.xlabel(\"DPA\")\n",
    "plt.legend(fontsize=\"15\",loc=\"best\")\n",
    "plt.tight_layout()\n",
    "plt.show()\n",
    "\n",
    "\n",
    "VacpH = dict()\n",
    "compH = dict()\n",
    "i=1\n",
    "for x in DPA[1:]:\n",
    "    VacpH[x]=round(q(x),1)\n",
    "    compH[\"v\"+str(i)]=round(q(x),1)\n",
    "    i=i+1\n",
    "#d"
   ]
  },
  {
   "cell_type": "markdown",
   "metadata": {},
   "source": [
    "### Setting up final biomass before updating vacuolar pH"
   ]
  },
  {
   "cell_type": "code",
   "execution_count": 14,
   "metadata": {},
   "outputs": [],
   "source": [
    "\n",
    "AA_b = [\"GLN\",\"ASN\",\"SER\",\"GLY\",\"THR\",\"L_ALPHA_ALANINE\",\"4_AMINO_BUTYRATE\",\"VAL\",\"ILE\",\"PHE\",\"LEU\",\"LYS\",\"ARG\",\"L_ASPARTATE\",\"GLT\",\"HIS\",\"MET\",\"PRO\",\"TRP\",\"TYR\",\"CYS\"]\n",
    "\n",
    "for m in AA_b:\n",
    "    met = Metabolite(m+\"_b10\")\n",
    "    met.compartment = \"b10\"\n",
    "    met.name = cobra_model2.metabolites.get_by_id(m+\"_c10\").name\n",
    "    met.formula = cobra_model2.metabolites.get_by_id(m+\"_c10\").formula\n",
    "    met.notes = cobra_model2.metabolites.get_by_id(m+\"_c10\").notes\n",
    "    met.charge = cobra_model2.metabolites.get_by_id(m+\"_c10\").charge\n",
    "    rxn = Reaction(\"Biomass_\"+m+\"_c_tx10\")\n",
    "    rxn.name=\"Biomass \"+m+\" _c accumulation\"\n",
    "    cobra_model2.add_reaction(rxn)\n",
    "    rxn.add_metabolites({cobra_model2.metabolites.get_by_id(m+\"_c10\"):-1,met:1})\n",
    "    rxn.lower_bound = 0\n",
    "    rxn.upper_bound = 1000\n",
    "    \n",
    "    rxn = Reaction(\"Biomass_\"+m+\"_v_tx10\")\n",
    "    rxn.name=\"Biomass \"+m+\" _v accumulation\"\n",
    "    cobra_model2.add_reaction(rxn)\n",
    "    if m == \"HIS\":\n",
    "        rxn.add_metabolites({cobra_model2.metabolites.get_by_id(\"b\"+m+\"_v10\"):-1,met:1})\n",
    "    else:\n",
    "        rxn.add_metabolites({cobra_model2.metabolites.get_by_id(m+\"_v10\"):-1,met:1})\n",
    "    rxn.lower_bound = 0\n",
    "    rxn.upper_bound = 1000\n",
    "    \n",
    "    \n",
    "OA = [\"CIT\",\"MAL\",\"FUM\"]\n",
    "for m in OA:\n",
    "    met = Metabolite(m+\"_b10\")\n",
    "    met.compartment = \"b10\"\n",
    "    met.name = cobra_model2.metabolites.get_by_id(m+\"_c10\").name\n",
    "    met.formula = cobra_model2.metabolites.get_by_id(m+\"_c10\").formula\n",
    "    met.notes = cobra_model2.metabolites.get_by_id(m+\"_c10\").notes\n",
    "    met.charge = cobra_model2.metabolites.get_by_id(m+\"_c10\").charge\n",
    "    rxn = Reaction(\"Biomass_\"+m+\"_c_tx10\")\n",
    "    rxn.name=\"Biomass \"+m+\" _c accumulation\"\n",
    "    cobra_model2.add_reaction(rxn)\n",
    "    rxn.add_metabolites({cobra_model2.metabolites.get_by_id(m+\"_c10\"):-1,met:1})\n",
    "    rxn.lower_bound = 0\n",
    "    rxn.upper_bound = 1000\n",
    "    \n",
    "    rxn = Reaction(\"Biomass_\"+m+\"_v_tx10\")\n",
    "    rxn.name=\"Biomass \"+m+\" _v accumulation\"\n",
    "    cobra_model2.add_reaction(rxn)\n",
    "    rxn.add_metabolites({cobra_model2.metabolites.get_by_id(m+\"_v10\"):-1,met:1})\n",
    "    rxn.lower_bound = 0\n",
    "    rxn.upper_bound = 1000\n",
    "\n",
    "\n",
    "Sugars = [\"GLC\",\"FRU\",\"SUCROSE\"]\n",
    "for m in Sugars:\n",
    "    met = Metabolite(m+\"_b10\")\n",
    "    met.compartment = \"b10\"\n",
    "    met.name = cobra_model2.metabolites.get_by_id(m+\"_c10\").name\n",
    "    met.formula = cobra_model2.metabolites.get_by_id(m+\"_c10\").formula\n",
    "    met.notes = cobra_model2.metabolites.get_by_id(m+\"_c10\").notes\n",
    "    met.charge = cobra_model2.metabolites.get_by_id(m+\"_c10\").charge\n",
    "    rxn = Reaction(\"Biomass_\"+m+\"_c_tx10\")\n",
    "    rxn.name=\"Biomass \"+m+\" _c accumulation\"\n",
    "    cobra_model2.add_reaction(rxn)\n",
    "    rxn.add_metabolites({cobra_model2.metabolites.get_by_id(m+\"_c10\"):-1,met:1})\n",
    "    rxn.lower_bound = 0\n",
    "    rxn.upper_bound = 1000\n",
    "    \n",
    "    rxn = Reaction(\"Biomass_\"+m+\"_v_tx10\")\n",
    "    rxn.name=\"Biomass \"+m+\" _v accumulation\"\n",
    "    cobra_model2.add_reaction(rxn)\n",
    "    rxn.add_metabolites({cobra_model2.metabolites.get_by_id(m+\"_v10\"):-1,met:1})\n",
    "    rxn.lower_bound = 0\n",
    "    rxn.upper_bound = 1000\n",
    "    #######\n",
    "    #rxn = Reaction(\"HYPO_biomass\"+m)\n",
    "    #rxn.add_metabolites({met:-1})\n",
    "    #rxn.lower_bound = 0\n",
    "    #rxn.upper_bound = 10\n",
    "    #cobra_model2.add_reaction(rxn)\n",
    "\n",
    "\n",
    "\n",
    "\n",
    "rxn = Reaction(\"Final_Biomass_tx\")\n",
    "rxn.name = \"Final Fruit Biomass\"\n",
    "for k in Conc.keys():\n",
    "    if k==\"AA\":\n",
    "        for i in AA_b:\n",
    "            rxn.add_metabolites({cobra_model2.metabolites.get_by_id(i+\"_b10\"):-float(Conc.get(k)[10])/scale})\n",
    "    elif k==\"Protein\":\n",
    "        continue\n",
    "    elif k==\"NA\":\n",
    "        continue\n",
    "    else:\n",
    "        if k==\"STARCH\":\n",
    "            rxn.add_metabolites({cobra_model2.metabolites.get_by_id(\"Starch_b10\"):-float(Conc.get(k)[10])/scale})\n",
    "        elif k==\"CELLULOSE\":\n",
    "            continue\n",
    "        elif k==\"PALMITATE\":\n",
    "            continue\n",
    "        #elif k==\"FUM\":\n",
    "        #    continue\n",
    "        #elif k==\"Pi\":\n",
    "        #    continue\n",
    "        else:\n",
    "            rxn.add_metabolites({cobra_model2.metabolites.get_by_id(k+\"_b10\"):-float(Conc.get(k)[10])/scale})\n",
    "\n",
    "rxn.lower_bound = 0\n",
    "rxn.upper_bound = 1000\n",
    "cobra_model2.add_reaction(rxn)\n",
    "\n",
    "for i in range(1,11):\n",
    "    rxn = Reaction(\"Protein_biomass_demand_tx\"+str(i))\n",
    "    rxn.name = \"Protein in Biomass \"+str(i)\n",
    "    k=\"Protein\"\n",
    "    rxn.add_metabolites({cobra_model2.metabolites.get_by_id(\"PROTEIN_b\"+str(i)):-1})\n",
    "    rxn.lower_bound = 0\n",
    "    rxn.upper_bound = 1000\n",
    "    cobra_model2.add_reaction(rxn)\n",
    "\n",
    "rxn = Reaction(\"Final_DNARNA_tx\")\n",
    "rxn.name = \"Final NA in Biomass\"\n",
    "k=\"NA\"\n",
    "rxn.add_metabolites({cobra_model2.metabolites.get_by_id(\"RNA_b10\"):-1,cobra_model2.metabolites.get_by_id(\"DNA_b10\"):-1})\n",
    "rxn.lower_bound = 0#float(Conc.get(k)[10])/scale\n",
    "rxn.upper_bound = 0#float(Conc.get(k)[10])/scale\n",
    "cobra_model2.add_reaction(rxn)\n",
    "\n",
    "\n",
    "for i in range(10,11):\n",
    "    rxn = Reaction(\"NITRATE_biomass\"+str(i))\n",
    "    rxn.add_metabolites({cobra_model2.metabolites.get_by_id(\"NITRATE_v\"+str(i)):-1})\n",
    "    rxn.lower_bound = 0\n",
    "    rxn.upper_bound = 1000\n",
    "    cobra_model2.add_reaction(rxn)\n",
    "    rxn = Reaction(\"MAL_biomass\"+str(i))\n",
    "    rxn.add_metabolites({cobra_model2.metabolites.get_by_id(\"MAL_v\"+str(i)):-1})\n",
    "    rxn.lower_bound = 0\n",
    "    rxn.upper_bound = 1000\n",
    "    cobra_model2.add_reaction(rxn)\n",
    "    rxn = Reaction(\"CIT_biomass\"+str(i))\n",
    "    rxn.add_metabolites({cobra_model2.metabolites.get_by_id(\"CIT_v\"+str(i)):-1})\n",
    "    rxn.lower_bound = 0\n",
    "    rxn.upper_bound = 1000\n",
    "    cobra_model2.add_reaction(rxn)\n",
    "    for met in [\"CAII\",\"KI\",\"MGII\",\"NITRATE\"]:\n",
    "        rxn = Reaction(met+\"_biomass_c\"+str(i))\n",
    "        rxn.add_metabolites({cobra_model2.metabolites.get_by_id(met+\"_c\"+str(i)):-1})\n",
    "        rxn.lower_bound = 0\n",
    "        rxn.upper_bound = 1000\n",
    "        cobra_model2.add_reaction(rxn)\n",
    "\n",
    "\n"
   ]
  },
  {
   "cell_type": "code",
   "execution_count": 15,
   "metadata": {},
   "outputs": [],
   "source": [
    "chargedFruit = convertToFractionalChargesFruit(cobra_model2,infile=\"MetaboliteChargedStates.xlsx\",compH=compH)\n",
    "chargedFruit.reactions.get_by_id(\"Final_Biomass_tx\").objective_coefficient=1\n",
    "del(cobra_model2)"
   ]
  },
  {
   "cell_type": "code",
   "execution_count": 16,
   "metadata": {},
   "outputs": [
    {
     "data": {
      "text/plain": [
       "'0.9603960396 PROTON_e1 --> 0.0022970297 4_AMINO_BUTYRATE_c1 + 0.0004186704 ARG_c1 + 0.0015049505 ASN_c1 + 0.0004186704 CYS_c1 + 0.0792079208 FRU_c1 + 0.0693069307 GLC_c1 + 0.0240792079 GLN_c1 + 0.0124356436 GLT_c1 + 0.0007128713 GLY_c1 + 0.0004186704 HIS_c1 + 0.0017425743 ILE_c1 + 0.0020594059 LEU_c1 + 0.0022178218 LYS_c1 + 0.0038811881 L_ALPHA_ALANINE_c1 + 0.006019802 L_ASPARTATE_c1 + 0.0004186704 MET_c1 + 0.0057029703 PHE_c1 + 0.9603960396 PROTON_c1 + 0.0004186704 PRO_c1 + 0.003960396 SER_c1 + 0.7326732673 SUCROSE_c1 + 0.0068910891 THR_c1 + 0.0004186704 TRP_c1 + 0.0004186704 TYR_c1 + 0.0027722772 VAL_c1'"
      ]
     },
     "execution_count": 16,
     "metadata": {},
     "output_type": "execute_result"
    }
   ],
   "source": [
    "chargedFruit.reactions.Phloem_uptake_tx1.reaction"
   ]
  },
  {
   "cell_type": "code",
   "execution_count": 17,
   "metadata": {
    "scrolled": true
   },
   "outputs": [
    {
     "data": {
      "text/plain": [
       "233.65614542592633"
      ]
     },
     "execution_count": 17,
     "metadata": {},
     "output_type": "execute_result"
    }
   ],
   "source": [
    "#removed LEU and TRP from phloem because degradation pathway is incomplete and their fraction in \n",
    "# phloem is extremely minor\n",
    "for Met in [\"LEU_c\",\"TRP_c\",\"VAL_c\",\"ILE_c\",\"PHE_c\",\"4_AMINO_BUTYRATE_c\",\"TYR_c\",\"GLN_c\"]:\n",
    "    for i in range(1,11):\n",
    "        met = chargedFruit.metabolites.get_by_id(Met+str(i))\n",
    "        coeff = chargedFruit.reactions.get_by_id(\"Phloem_uptake_tx\"+str(i)).metabolites.get(met)\n",
    "        chargedFruit.reactions.get_by_id(\"Phloem_uptake_tx\"+str(i)).add_metabolites({met:-1*coeff})\n",
    "\n",
    "sol = chargedFruit.optimize()\n",
    "sol.fluxes.get(\"Final_Biomass_tx\")"
   ]
  },
  {
   "cell_type": "markdown",
   "metadata": {},
   "source": [
    "### Constraining cellulose demand flux based on increasing cell volume"
   ]
  },
  {
   "cell_type": "code",
   "execution_count": 18,
   "metadata": {},
   "outputs": [
    {
     "name": "stdout",
     "output_type": "stream",
     "text": [
      "Constraining cellulose demand flux...\n"
     ]
    }
   ],
   "source": [
    "from studyFunctions import celluloseDemandFlux\n",
    "\n",
    "cobra_model2 = chargedFruit.copy()\n",
    "print(\"Constraining cellulose demand flux...\")\n",
    "\n",
    "\n",
    "for i in range(1,11):\n",
    "    rxn = Reaction(\"CELLULOSE_accumulation\"+str(i))\n",
    "    met = cobra_model2.metabolites.get_by_id(\"CELLULOSE_c\"+str(i))\n",
    "    rxn.add_metabolites({met:-1})\n",
    "    rxn.lower_bound = celluloseDemandFlux(DPA[i],Ncells = 25*(10**6),unit_time=unit_time)\n",
    "    rxn.upper_bound = celluloseDemandFlux(DPA[i],Ncells = 25*(10**6),unit_time=unit_time)\n",
    "    cobra_model2.add_reaction(rxn)\n"
   ]
  },
  {
   "cell_type": "markdown",
   "metadata": {},
   "source": [
    "### Constraining palmitate demand flux based on increasing cell volume\n"
   ]
  },
  {
   "cell_type": "code",
   "execution_count": 19,
   "metadata": {},
   "outputs": [
    {
     "name": "stdout",
     "output_type": "stream",
     "text": [
      "Constraining phospholipid demand flux...\n"
     ]
    }
   ],
   "source": [
    "from studyFunctions import phospholipidDemandFlux\n",
    "\n",
    "print(\"Constraining phospholipid demand flux...\")\n",
    "\n",
    "for i in range(1,11):\n",
    "    rxn = Reaction(\"phospholipid_accumulation\"+str(i))\n",
    "    met = cobra_model2.metabolites.get_by_id(\"L_1_PHOSPHATIDYL_ETHANOLAMINE_r\"+str(i))\n",
    "    rxn.add_metabolites({met:-0.273})\n",
    "    met = cobra_model2.metabolites.get_by_id(\"PHOSPHATIDYL_CHOLINE_r\"+str(i))\n",
    "    rxn.add_metabolites({met:-0.353})\n",
    "    met = cobra_model2.metabolites.get_by_id(\"L_PHOSPHATIDATE_p\"+str(i))\n",
    "    rxn.add_metabolites({met:-0.374})\n",
    "    rxn.lower_bound = float(phospholipidDemandFlux(DPA[i],Ncells = 25*(10**6),unit_time=unit_time,scaling_factor=100.0/8.512820512820287))\n",
    "    rxn.upper_bound = float(phospholipidDemandFlux(DPA[i],Ncells = 25*(10**6),unit_time=unit_time,scaling_factor=100.0/8.512820512820287))\n",
    "    cobra_model2.add_reaction(rxn)"
   ]
  },
  {
   "cell_type": "code",
   "execution_count": 20,
   "metadata": {},
   "outputs": [
    {
     "data": {
      "text/plain": [
       "233.65614542592633"
      ]
     },
     "execution_count": 20,
     "metadata": {},
     "output_type": "execute_result"
    }
   ],
   "source": [
    "sol = cobra_model2.optimize()\n",
    "sol.fluxes.get(\"Final_Biomass_tx\")"
   ]
  },
  {
   "cell_type": "markdown",
   "metadata": {},
   "source": [
    "### Constraining protein demand flux based on increasing cell volume\n"
   ]
  },
  {
   "cell_type": "code",
   "execution_count": 21,
   "metadata": {},
   "outputs": [],
   "source": [
    "ProtConc=21458.1747597         #Biais data\n",
    "#ProtConc=19659.7704473         #Jose's data"
   ]
  },
  {
   "cell_type": "code",
   "execution_count": 22,
   "metadata": {},
   "outputs": [
    {
     "name": "stdout",
     "output_type": "stream",
     "text": [
      "Constraining protein demand flux...\n",
      "0.0112816633773\n",
      "0.0174385732478\n",
      "0.0259973905035\n",
      "0.030016941082\n",
      "0.0237650500464\n",
      "0.013162547312\n",
      "0.00567001934018\n",
      "0.00208064699906\n",
      "0.000668913450129\n",
      "0.000176835351992\n"
     ]
    }
   ],
   "source": [
    "from studyFunctions import estimateProteinDemandFlux\n",
    "\n",
    "print(\"Constraining protein demand flux...\")\n",
    "#cobra_model2 = temp_model.copy()\n",
    "for i in range(1,11):\n",
    "    rxn = cobra_model2.reactions.get_by_id(\"Protein_biomass_demand_tx\"+str(i))\n",
    "    print(estimateProteinDemandFlux(DPA[i],ProtConc=21458.1747597,unit_time=unit_time,Ncell = 25*(10**6)))\n",
    "    temp_A = estimateProteinDemandFlux(DPA[i],ProtConc=21458.1747597,unit_time=unit_time,Ncell = 25*(10**6))\n",
    "    rxn.lower_bound = temp_A\n",
    "    rxn.upper_bound = temp_A\n",
    "    \n",
    "\n"
   ]
  },
  {
   "cell_type": "code",
   "execution_count": 23,
   "metadata": {},
   "outputs": [
    {
     "name": "stdout",
     "output_type": "stream",
     "text": [
      "2.64816625885\n"
     ]
    }
   ],
   "source": [
    "sol = cobra_model2.optimize()\n",
    "print(sol.fluxes.get(\"Final_Biomass_tx\"))"
   ]
  },
  {
   "cell_type": "markdown",
   "metadata": {},
   "source": [
    "### Phytol and Lycopene data"
   ]
  },
  {
   "cell_type": "code",
   "execution_count": 24,
   "metadata": {},
   "outputs": [
    {
     "name": "stdout",
     "output_type": "stream",
     "text": [
      "2.49659137808e-12\n",
      "9.47693877151e-10\n",
      "8.15478226563e-08\n",
      "2.8662259526e-06\n",
      "5.49617628915e-05\n",
      "0.000632356115311\n",
      "0.00308416828079\n",
      "0.0031979747548\n",
      "0.000873216062261\n",
      "0.000160538104002\n"
     ]
    }
   ],
   "source": [
    "#constraining pigment accumulation/degradation rates\n",
    "for i in range(1,11):\n",
    "    rxn = Reaction(\"Lycopene_biomass_demand_tx\"+str(i))\n",
    "    rxn.add_metabolites({cobra_model2.metabolites.get_by_id(\"CPD1F_114_p\"+str(i)):-1})\n",
    "    rxn.lower_bound = float(estimateLycopeneDemand(DPA[i],unit_time)*0.001)    #mmol/fruit/5.1day\n",
    "    rxn.upper_bound = float(estimateLycopeneDemand(DPA[i],unit_time)*0.001)    #mmol/fruit/5.1day\n",
    "    #print(rxn.reaction)\n",
    "    print(rxn.lower_bound)\n",
    "    cobra_model2.add_reaction(rxn)\n",
    "    \n",
    "    rxn = Reaction(\"Phytol_biomass_demand_tx\"+str(i))\n",
    "    rxn.add_metabolites({cobra_model2.metabolites.get_by_id(\"PHYTOL_p\"+str(i)):-1})\n",
    "    rxn.lower_bound = float(estimatePhytolDemand(DPA[i],unit_time)*0.001)         #mmol/fruit/5.1day\n",
    "    rxn.upper_bound = float(estimatePhytolDemand(DPA[i],unit_time)*0.001)         #mmol/fruit/5.1day\n",
    "    #print rxn.lower_bound\n",
    "    cobra_model2.add_reaction(rxn)"
   ]
  },
  {
   "cell_type": "code",
   "execution_count": 25,
   "metadata": {},
   "outputs": [
    {
     "name": "stdout",
     "output_type": "stream",
     "text": [
      "2.64118412229\n"
     ]
    }
   ],
   "source": [
    "sol=cobra_model2.optimize()\n",
    "print(sol.fluxes.get(\"Final_Biomass_tx\"))"
   ]
  },
  {
   "cell_type": "markdown",
   "metadata": {},
   "source": [
    "### checkpoint : create backup"
   ]
  },
  {
   "cell_type": "code",
   "execution_count": 26,
   "metadata": {
    "scrolled": true
   },
   "outputs": [],
   "source": [
    "backup2 =  cobra_model2.copy()"
   ]
  },
  {
   "cell_type": "markdown",
   "metadata": {},
   "source": [
    "### Add osmotic constraint to fruit model\n"
   ]
  },
  {
   "cell_type": "code",
   "execution_count": 27,
   "metadata": {
    "scrolled": true
   },
   "outputs": [],
   "source": [
    "cobra_model2 = backup2.copy()\n",
    "\n",
    "\n",
    "vacMets=[\"SUCROSE_v\",\"MAL_v\",\"NITRATE_v\",\"AMMONIUM_v\",\"CIT_v\",\"GLN_v\",\"ASN_v\",\"SER_v\",\"GLY_v\",\"THR_v\",\"L_ALPHA_ALANINE_v\",\"4_AMINO_BUTYRATE_v\",\"VAL_v\",\"ILE_v\",\"PHE_v\",\"LEU_v\",\"LYS_v\",\"ARG_v\",\"L_ASPARTATE_v\",\"GLT_v\",\"bHIS_v\",\"MET_v\",\"PRO_v\",\"TRP_v\",\"TYR_v\",\"CYS_v\",\"GLC_v\",\"FRU_v\",\"FUM_v\",\"MGII_v\",\"KI_v\",\"CAII_v\"]\n",
    "\n",
    "\n",
    "#Add water potential constraint on the whole cell\n",
    "for i in range(1,10):\n",
    "    met1_v = Metabolite(\"VO_\"+str(i))\n",
    "    met1_v.name = \"vacuolar osmolarity pseudo metabolite\"\n",
    "    met1_c = Metabolite(\"CO_\"+str(i))\n",
    "    met1_c.name = \"cytosolic osmolarity pseudo metabolite\"\n",
    "    met2_c = Metabolite(\"CC_c\"+str(i))\n",
    "    met2_c.name = \"cytosolic_charge_constraint\"\n",
    "    met2_c.compartment=\"c\"+str(i)\n",
    "    met2_v = Metabolite(\"CC_v\"+str(i))\n",
    "    met2_v.name = \"vacuolar_charge_constraint\"\n",
    "    met2_v.compartment=\"v\"+str(i)\n",
    "    for metID in vacMets:\n",
    "        met = cobra_model2.metabolites.get_by_id(metID+str(i))\n",
    "        rxn = cobra_model2.reactions.get_by_id(metID+\"_Transfer\"+str(i)+str(i+1))\n",
    "        charge = 0\n",
    "        for Reac in rxn.reactants:\n",
    "            if Reac.id.__contains__(\"PROTON\"):\n",
    "                continue\n",
    "            charge = charge + (rxn.metabolites.get(Reac)*int(Reac.charge)*-1)\n",
    "        rxn.add_metabolites({met1_v:1,met2_v:charge})\n",
    "    for rxn in cobra_model2.reactions.query(\"_c_Transfer\"+str(i)+str(i+1)):\n",
    "        charge = 0\n",
    "        for Reac in rxn.reactants:\n",
    "            if Reac.id.__contains__(\"PROTON\"):\n",
    "                continue\n",
    "            charge = charge + (rxn.metabolites.get(Reac)*int(Reac.charge)*-1)\n",
    "        rxn.add_metabolites({met1_c:1,met2_c:charge})\n",
    "\n",
    "\n",
    "\n",
    "\n",
    "#Set constraints for final fruit biomass\n",
    "met1_v = Metabolite(\"VO_10\")\n",
    "met1_v.name = \"vacuolar osmolarity pseudo metabolite\"\n",
    "met1_c = Metabolite(\"CO_10\")\n",
    "met1_c.name = \"cytosolic osmolarity pseudo metabolite\"\n",
    "met2_c = Metabolite(\"CC_c10\")\n",
    "met2_c.name = \"cytosolic_charge_constraint\"\n",
    "met2_c.compartment=\"c10\"\n",
    "met2_v = Metabolite(\"CC_v10\")\n",
    "met2_v.name = \"vacuolar_charge_constraint\"\n",
    "met2_v.compartment=\"v10\"\n",
    "\n",
    "VO_10 = 0\n",
    "CO_10 = 0\n",
    "CC_c10 = 0\n",
    "CC_v10 = 0\n",
    "\n",
    "AA_b = [\"GLN\",\"ASN\",\"SER\",\"GLY\",\"THR\",\"L_ALPHA_ALANINE\",\"4_AMINO_BUTYRATE\",\"VAL\",\"ILE\",\"PHE\",\"LEU\",\"LYS\",\"ARG\",\"L_ASPARTATE\",\"GLT\",\"HIS\",\"MET\",\"PRO\",\"TRP\",\"TYR\",\"CYS\"]\n",
    "\n",
    "for m in AA_b:\n",
    "    met = cobra_model2.metabolites.get_by_id(m+\"_c10\")\n",
    "    rxn = cobra_model2.reactions.get_by_id(\"Biomass_\"+m+\"_c_tx10\")\n",
    "    charge = 0\n",
    "    stoich = 0\n",
    "    for Reac in rxn.reactants:\n",
    "        if Reac.id.__contains__(\"PROTON\"):\n",
    "            continue\n",
    "        charge = charge + (rxn.metabolites.get(Reac)*int(Reac.charge)*-1)\n",
    "        stoich = stoich + (rxn.metabolites.get(Reac)*-1)\n",
    "    rxn.add_metabolites({met1_c:stoich,met2_c:charge})\n",
    "    met = cobra_model2.metabolites.get_by_id(m+\"_v10\")\n",
    "    rxn = cobra_model2.reactions.get_by_id(\"Biomass_\"+m+\"_v_tx10\")\n",
    "    charge = 0\n",
    "    stoich = 0\n",
    "    for Reac in rxn.reactants:\n",
    "        if Reac.id.__contains__(\"PROTON\"):\n",
    "            continue\n",
    "        charge = charge + (rxn.metabolites.get(Reac)*int(Reac.charge)*-1)\n",
    "        stoich = stoich + (rxn.metabolites.get(Reac)*-1)\n",
    "    rxn.add_metabolites({met1_v:stoich,met2_v:charge})\n",
    "\n",
    "    \n",
    "OA = [\"CIT\",\"MAL\"]\n",
    "\n",
    "for m in OA:\n",
    "    met = cobra_model2.metabolites.get_by_id(m+\"_c10\")\n",
    "    rxn = cobra_model2.reactions.get_by_id(\"Biomass_\"+m+\"_c_tx10\")\n",
    "    charge = 0\n",
    "    stoich = 0\n",
    "    for Reac in rxn.reactants:\n",
    "        if Reac.id.__contains__(\"PROTON\"):\n",
    "            continue\n",
    "        charge = charge + (rxn.metabolites.get(Reac)*int(Reac.charge)*-1)\n",
    "        stoich = stoich + (rxn.metabolites.get(Reac)*-1)\n",
    "    rxn.add_metabolites({met1_c:stoich,met2_c:charge})\n",
    "    met = cobra_model2.metabolites.get_by_id(m+\"_v10\")\n",
    "    rxn = cobra_model2.reactions.get_by_id(\"Biomass_\"+m+\"_v_tx10\")\n",
    "    charge = 0\n",
    "    stoich = 0\n",
    "    for Reac in rxn.reactants:\n",
    "        if Reac.id.__contains__(\"PROTON\"):\n",
    "            continue\n",
    "        charge = charge + (rxn.metabolites.get(Reac)*int(Reac.charge)*-1)\n",
    "        stoich = stoich + (rxn.metabolites.get(Reac)*-1)\n",
    "    rxn.add_metabolites({met1_v:stoich,met2_v:charge})\n",
    "\n",
    "Sugars = [\"GLC\",\"FRU\",\"SUCROSE\"]\n",
    "\n",
    "for m in Sugars:\n",
    "    met = cobra_model2.metabolites.get_by_id(m+\"_c10\")\n",
    "    rxn = cobra_model2.reactions.get_by_id(\"Biomass_\"+m+\"_c_tx10\")\n",
    "    charge = 0\n",
    "    stoich = 0\n",
    "    for Reac in rxn.reactants:\n",
    "        if Reac.id.__contains__(\"PROTON\"):\n",
    "            continue\n",
    "        charge = charge + (rxn.metabolites.get(Reac)*int(Reac.charge)*-1)\n",
    "        stoich = stoich + (rxn.metabolites.get(Reac)*-1)\n",
    "    rxn.add_metabolites({met1_c:stoich,met2_c:charge})\n",
    "    met = cobra_model2.metabolites.get_by_id(m+\"_v10\")\n",
    "    rxn = cobra_model2.reactions.get_by_id(\"Biomass_\"+m+\"_v_tx10\")\n",
    "    charge = 0\n",
    "    stoich = 0\n",
    "    for Reac in rxn.reactants:\n",
    "        if Reac.id.__contains__(\"PROTON\"):\n",
    "            continue\n",
    "        charge = charge + (rxn.metabolites.get(Reac)*int(Reac.charge)*-1)\n",
    "        stoich = stoich + (rxn.metabolites.get(Reac)*-1)\n",
    "    rxn.add_metabolites({met1_v:stoich,met2_v:charge})\n",
    "\n",
    "\n",
    "#\n",
    "rxn = cobra_model2.reactions.get_by_id(\"Ca_biomass10\")\n",
    "rxn.add_metabolites({met1_v:1,met2_v:2})\n",
    "rxn = cobra_model2.reactions.get_by_id(\"Mg_biomass10\")\n",
    "rxn.add_metabolites({met1_v:1,met2_v:2})\n",
    "rxn = cobra_model2.reactions.get_by_id(\"K_biomass10\")\n",
    "rxn.add_metabolites({met1_v:1,met2_v:1})\n",
    "rxn = cobra_model2.reactions.get_by_id(\"NITRATE_biomass10\")\n",
    "rxn.add_metabolites({met1_v:1,met2_v:-1})\n",
    "rxn = cobra_model2.reactions.get_by_id(\"CAII_biomass_c10\")\n",
    "rxn.add_metabolites({met1_c:1,met2_c:2})\n",
    "rxn = cobra_model2.reactions.get_by_id(\"MGII_biomass_c10\")\n",
    "rxn.add_metabolites({met1_c:1,met2_c:2})\n",
    "rxn = cobra_model2.reactions.get_by_id(\"KI_biomass_c10\")\n",
    "rxn.add_metabolites({met1_c:1,met2_c:1})\n",
    "rxn = cobra_model2.reactions.get_by_id(\"NITRATE_biomass_c10\")\n",
    "rxn.add_metabolites({met1_c:1,met2_c:-1})\n",
    "\n",
    "\n",
    "import math\n",
    "#Set total(met1_v) = (volume_of_vacuole/volume_of_cytosol) * total(met1_c)\n",
    "for i in range(1,11):\n",
    "    Vv = 0.853*(1-(math.e**((-2293-(DPA[i]*24*60))/10633)))\n",
    "    Vc = (0.933 - Vv)/1.13\n",
    "    #print(Vv/Vc)\n",
    "    met = Metabolite(\"WCO_\"+str(i))\n",
    "    met.name = \"Whole cell osmolarity psuedo metabolite\"\n",
    "    met1_v = cobra_model2.metabolites.get_by_id(\"VO_\"+str(i))\n",
    "    met1_c = cobra_model2.metabolites.get_by_id(\"CO_\"+str(i))\n",
    "    rxn =Reaction(\"IntercellularWaterPotentialConstraint\"+str(i))\n",
    "    rxn.add_metabolites({met1_c:-1,met1_v:-1*(Vv/Vc),met:1+(Vv/Vc)})\n",
    "    rxn.lower_bound = 0\n",
    "    rxn.upper_bound = 1000\n",
    "    cobra_model2.add_reaction(rxn)\n",
    "\n",
    "        \n",
    "#Set sum(van't_Hoff_factor*number_of_moles) = cell_volume*Osmolarity\n",
    "import math\n",
    "C_cell = 275           #Almeida and Huber 1999; units = mOsmol/kg ~ mmol/L\n",
    "C_cell = 275000        #units = mmol/m3\n",
    "for i in range(1,11):\n",
    "    met = cobra_model2.metabolites.get_by_id(\"WCO_\"+str(i))\n",
    "    V_pericarp = estimateVpericarp(DPA[i],hollow=False)\n",
    "    rxn = Reaction(\"WCOsetter_tx\"+str(i))\n",
    "    rxn.name = \"WCO_setter\"\n",
    "    rxn.add_metabolites({met:-1})\n",
    "    rxn.lower_bound = round(V_pericarp*C_cell,3)\n",
    "    rxn.upper_bound = round(V_pericarp*C_cell,3)\n",
    "    cobra_model2.add_reaction(rxn)\n",
    "\n"
   ]
  },
  {
   "cell_type": "code",
   "execution_count": 28,
   "metadata": {},
   "outputs": [],
   "source": [
    "sol=cobra_model2.optimize()\n",
    "print(sol.fluxes.get(\"Final_Biomass_tx\"))"
   ]
  },
  {
   "cell_type": "markdown",
   "metadata": {},
   "source": [
    "### Accounting for NGAM  based on maintenance respiration in Walker and Thornley 1997\n",
    "\n"
   ]
  },
  {
   "cell_type": "code",
   "execution_count": 29,
   "metadata": {
    "scrolled": true
   },
   "outputs": [
    {
     "name": "stdout",
     "output_type": "stream",
     "text": [
      "==========\n",
      "mass =2402\n",
      "relative r=0.007\n",
      "mg/day =16.814\n",
      "mmol/day =1.40116666667\n",
      "mmol/day =7.14595\n",
      "==========\n",
      "mass =387\n",
      "relative r=0.052\n",
      "mg/day =20.124\n",
      "mmol/day =1.677\n",
      "mmol/day =8.5527\n",
      "==========\n",
      "mass =931\n",
      "relative r=0.021\n",
      "mg/day =19.551\n",
      "mmol/day =1.62925\n",
      "mmol/day =8.309175\n",
      "==========\n",
      "mass =1591\n",
      "relative r=0.015\n",
      "mg/day =23.865\n",
      "mmol/day =1.98875\n",
      "mmol/day =10.142625\n"
     ]
    }
   ],
   "source": [
    "mR ={387:0.052,931:0.021,1591:0.015,2402:0.007}\n",
    "for i in mR.keys():\n",
    "    print(\"==========\")\n",
    "    print(\"mass =\"+str(i))\n",
    "    print(\"relative r=\"+str(mR[i]))\n",
    "    print(\"mg/day =\"+str(mR[i]*i))\n",
    "    print(\"mmol/day =\"+str(mR[i]*i/12))\n",
    "    print(\"mmol/day =\"+str(mR[i]*i*unit_time/12))"
   ]
  },
  {
   "cell_type": "markdown",
   "metadata": {},
   "source": [
    "    This maitenance respiration is reported in relative respiration units. Converting them into mg/day, mmol/day and mmol/5.1 days:\n",
    "    ================================================================================\n",
    "    Mean fruit mass       1/day        mg/day          mmol/day         mmol/5.1days\n",
    "    ================================================================================\n",
    "      387                0.052          20.124           1.677             8.553\n",
    "      931                0.021          19.551           1.629             8.308\n",
    "     1591                0.015          23.865           1.989            10.144\n",
    "     2402                0.007          16.814           1.401             7.145\n",
    "    ================================================================================"
   ]
  },
  {
   "cell_type": "code",
   "execution_count": 30,
   "metadata": {},
   "outputs": [
    {
     "name": "stdout",
     "output_type": "stream",
     "text": [
      "8.5375\n"
     ]
    }
   ],
   "source": [
    "meanRes = (8.553+8.308+10.144+7.145)/4\n",
    "print(meanRes)"
   ]
  },
  {
   "cell_type": "markdown",
   "metadata": {},
   "source": [
    "    Using core model ATPase NGAM flux of 26.2 mmol/fruit/5.1 days was estimated to correspond with a respiration rate of 8.5375 mmol CO2/fruit/5.1"
   ]
  },
  {
   "cell_type": "code",
   "execution_count": 31,
   "metadata": {
    "scrolled": true
   },
   "outputs": [],
   "source": [
    "ATPase = 26.2"
   ]
  },
  {
   "cell_type": "code",
   "execution_count": 32,
   "metadata": {},
   "outputs": [],
   "source": [
    "for i in range(1,11):\n",
    "    met=Metabolite(\"ATPNAPDH_maintenance_constraint_\"+str(i))\n",
    "    cobra_model2.reactions.get_by_id(\"ATPase_tx\"+str(i)).add_metabolites({met:-1})\n",
    "    cobra_model2.reactions.get_by_id(\"NADPHoxc_tx\"+str(i)).add_metabolites({met:3})\n",
    "    cobra_model2.reactions.get_by_id(\"NADPHoxp_tx\"+str(i)).add_metabolites({met:3})\n",
    "    cobra_model2.reactions.get_by_id(\"NADPHoxm_tx\"+str(i)).add_metabolites({met:3})\n",
    "    cobra_model2.reactions.get_by_id(\"ATPase_tx\"+str(i)).lower_bound = ATPase\n",
    "    cobra_model2.reactions.get_by_id(\"ATPase_tx\"+str(i)).upper_bound = ATPase\n"
   ]
  },
  {
   "cell_type": "code",
   "execution_count": 33,
   "metadata": {},
   "outputs": [
    {
     "data": {
      "text/html": [
       "<strong><em>Optimal</em> solution with objective value 1.103</strong><br>                            fluxes  reduced_costs\n",
       "GLYCEROL_3P_pc1          -0.020881       0.000000\n",
       "GLYCEROL_3P_pc3          -0.045287       0.000000\n",
       "GLYCEROL_3P_pc2          -0.032892       0.000000\n",
       "NADH_DEHYDROG_A_RXN_mc7   0.000000       0.000000\n",
       "GLYCEROL_3P_pc9          -0.001661       0.000000\n",
       "...                            ...            ...\n",
       "WCOsetter_tx6            23.261000      -0.000000\n",
       "WCOsetter_tx7            24.088000      -0.000000\n",
       "WCOsetter_tx8            24.332000      -0.000000\n",
       "WCOsetter_tx9            24.412000      -0.000000\n",
       "WCOsetter_tx10           24.441000       0.090227\n",
       "\n",
       "[8891 rows x 2 columns]"
      ],
      "text/plain": [
       "<Solution 1.103 at 0x7f292395e190>"
      ]
     },
     "execution_count": 33,
     "metadata": {},
     "output_type": "execute_result"
    }
   ],
   "source": [
    "backup4 = cobra_model2.copy()\n",
    "sol =backup4.optimize()\n",
    "print(sol.fluxes.get(\"Final_Biomass_tx\"))"
   ]
  },
  {
   "cell_type": "markdown",
   "metadata": {},
   "source": [
    "### Constraining phloem uptake rate"
   ]
  },
  {
   "cell_type": "code",
   "execution_count": 34,
   "metadata": {
    "scrolled": true
   },
   "outputs": [
    {
     "name": "stdout",
     "output_type": "stream",
     "text": [
      "Total C in 1 mol of phloem = 9.8517340867\n",
      "-------------\n",
      "Cuptake rate = 10.3246788549\n",
      "Cuptake rate = 9.85705699494\n",
      "Cuptake rate = 7.10505745832\n",
      "Cuptake rate = 4.09152557633\n",
      "Cuptake rate = 3.17570829047\n",
      "Cuptake rate = 2.97194127161\n",
      "Cuptake rate = 2.92189127324\n",
      "Cuptake rate = 2.90765364888\n",
      "Cuptake rate = 2.90304441179\n",
      "Cuptake rate = 2.90138312454\n"
     ]
    }
   ],
   "source": [
    "\n",
    "cobra_model2 = backup4.copy()\n",
    "C=0\n",
    "for met in cobra_model2.reactions.get_by_id(\"Phloem_uptake_tx1\").metabolites.keys():\n",
    "    if met.formula == \"\" or met.formula == \"NA\" or not \"C\" in met.formula:\n",
    "        continue\n",
    "    C=C+(int(met.formula.split(\"H\")[0].split(\"C\")[1])*cobra_model2.reactions.get_by_id(\"Phloem_uptake_tx1\").metabolites.get(met))\n",
    "\n",
    "print(\"Total C in 1 mol of phloem = \"+str(abs(C)))\n",
    "print(\"-------------\")\n",
    "\n",
    "for i in range(1,11):\n",
    "    Ccont = estimateCcontent(DPA[i])\n",
    "    cobra_model2.reactions.get_by_id(\"Phloem_uptake_tx\"+str(i)).upper_bound = estimatePhloemUptakeConstraint(Ccont)*24*(unit_time/abs(C*12))\n",
    "    print \"Cuptake rate = \"+str(estimatePhloemUptakeConstraint(Ccont)*24*(unit_time/abs(C*12)))\n"
   ]
  },
  {
   "cell_type": "markdown",
   "metadata": {},
   "source": [
    "### g) Run basic simulation"
   ]
  },
  {
   "cell_type": "code",
   "execution_count": 35,
   "metadata": {},
   "outputs": [],
   "source": [
    "for i in range(1,10):\n",
    "    rxn = cobra_model2.reactions.get_by_id(\"FUM_c_Transfer\"+str(i)+str(i+1))\n",
    "    rxn.lower_bound = rxn.upper_bound = 0\n",
    "    rxn = cobra_model2.reactions.get_by_id(\"FUM_v_Transfer\"+str(i)+str(i+1))\n",
    "    rxn.lower_bound = rxn.upper_bound = 0\n",
    "    #set Lycopene and Phytol demand to 0\n",
    "    rxn = cobra_model2.reactions.get_by_id(\"Lycopene_biomass_demand_tx\"+str(i))\n",
    "    rxn.lower_bound = 0\n",
    "    rxn.upper_bound = 0\n",
    "    rxn = Reaction(\"Phytol_biomass_demand_tx\"+str(i))\n",
    "    rxn.lower_bound = 0\n",
    "    rxn.upper_bound = 0\n",
    "\n"
   ]
  },
  {
   "cell_type": "code",
   "execution_count": 36,
   "metadata": {},
   "outputs": [],
   "source": [
    "weightings =dict()\n",
    "for rxn in cobra_model2.reactions:\n",
    "    if rxn.id.__contains__(\"Transfer\"):\n",
    "        weightings[rxn.id]=1\n",
    "    elif rxn.id.__contains__(\"Photon_\") or rxn.id.startswith(\"H_\") or rxn.id.__contains__(\"H2O_\") or rxn.id.__contains__(\"O2_\") or rxn.id.__contains__(\"CO2_\"):\n",
    "        weightings[rxn.id]=1\n",
    "    else:\n",
    "        weightings[rxn.id]=1"
   ]
  },
  {
   "cell_type": "code",
   "execution_count": 37,
   "metadata": {},
   "outputs": [
    {
     "name": "stdout",
     "output_type": "stream",
     "text": [
      "Mon Aug 12 10:18:33 2019\n",
      "Mon Aug 12 10:18:53 2019\n"
     ]
    }
   ],
   "source": [
    "import time\n",
    "print(time.ctime())\n",
    "cobra_model2.reactions.get_by_id(\"Final_Biomass_tx\").objective_coefficient=1\n",
    "#solution2 = flux_analysis.parsimonious.pfba(cobra_model2)\n",
    "solution = pfba_Weighted(cobra_model2,weightings)\n",
    "print(time.ctime())"
   ]
  },
  {
   "cell_type": "markdown",
   "metadata": {},
   "source": [
    "### Fruit final biomass"
   ]
  },
  {
   "cell_type": "code",
   "execution_count": 38,
   "metadata": {},
   "outputs": [
    {
     "name": "stdout",
     "output_type": "stream",
     "text": [
      "Final fruit biomass accumulation flux for model with osmolarity constraint = 1.1026173081545576\n"
     ]
    }
   ],
   "source": [
    "print(\"Final fruit biomass accumulation flux for model with osmolarity constraint = \"+str(solution.fluxes[\"Final_Biomass_tx\"]))\n"
   ]
  },
  {
   "cell_type": "markdown",
   "metadata": {},
   "source": [
    "### Export model"
   ]
  },
  {
   "cell_type": "code",
   "execution_count": 39,
   "metadata": {},
   "outputs": [],
   "source": [
    "temp_model = cobra_model2.copy()\n",
    "for met in temp_model.metabolites:\n",
    "    if met.charge != None:\n",
    "        met.charge = int(met.charge)\n",
    "io.sbml.write_cobra_model_to_sbml_file(temp_model,\"ConstrainedFruitModel.xml\",use_fbc_package=False)\n",
    "del(temp_model)"
   ]
  },
  {
   "cell_type": "markdown",
   "metadata": {},
   "source": [
    "### Write flux distribution to file"
   ]
  },
  {
   "cell_type": "code",
   "execution_count": 70,
   "metadata": {},
   "outputs": [],
   "source": [
    "writeSolutionFluxesToFile(solution2,\"FruitFluxes.csv\",cobra_model2)"
   ]
  }
 ],
 "metadata": {
  "kernelspec": {
   "display_name": "Python 2",
   "language": "python",
   "name": "python2"
  },
  "language_info": {
   "codemirror_mode": {
    "name": "ipython",
    "version": 2
   },
   "file_extension": ".py",
   "mimetype": "text/x-python",
   "name": "python",
   "nbconvert_exporter": "python",
   "pygments_lexer": "ipython2",
   "version": "2.7.15+"
  }
 },
 "nbformat": 4,
 "nbformat_minor": 2
}
